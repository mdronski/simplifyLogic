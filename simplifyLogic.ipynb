{
 "cells": [
  {
   "cell_type": "code",
   "execution_count": 2,
   "metadata": {},
   "outputs": [],
   "source": [
    "import string"
   ]
  },
  {
   "cell_type": "code",
   "execution_count": 3,
   "metadata": {},
   "outputs": [],
   "source": [
    "# onp functions"
   ]
  },
  {
   "cell_type": "code",
   "execution_count": 4,
   "metadata": {},
   "outputs": [],
   "source": [
    "def getVariables(expression):\n",
    "    variables = [letter for letter in expression if letter.isalpha()]\n",
    "    return ''.join(sorted(set(variables)))"
   ]
  },
  {
   "cell_type": "code",
   "execution_count": 5,
   "metadata": {},
   "outputs": [],
   "source": [
    "def validate(expression):\n",
    "    variables = string.ascii_lowercase + 'T' + 'F'\n",
    "    operators = \"&>|/>\"\n",
    "    state = True\n",
    "    counter = 0\n",
    "\n",
    "    for char in expression:\n",
    "        if char == '(': counter += 1\n",
    "        if char == ')': counter -= 1\n",
    "        if counter < 0: return False\n",
    "        if state:\n",
    "            if char == '~': state = True\n",
    "            elif char in variables: state = False\n",
    "            elif char in ')' + operators: return False\n",
    "        else:\n",
    "            if char in operators: state = True\n",
    "            elif char in '(' + variables + '~': return False\n",
    "    if counter != 0: return False\n",
    "    return not state"
   ]
  },
  {
   "cell_type": "code",
   "execution_count": 6,
   "metadata": {},
   "outputs": [],
   "source": [
    "def divideExpression(expression, operators):\n",
    "    counter = 0\n",
    "    for i in range(len(expression) - 1, -1, -1):       # zmieniłem 0 na -1\n",
    "        if expression[i] == ')': counter += 1\n",
    "        if expression[i] == '(': counter -= 1\n",
    "        if expression[i] in operators and counter == 0: return i\n",
    "    return -1"
   ]
  },
  {
   "cell_type": "code",
   "execution_count": 7,
   "metadata": {},
   "outputs": [],
   "source": [
    "def onp(expression):\n",
    "    operators = \"&>|/\"\n",
    "    while expression[0] == '(' and expression[-1] == ')' and validate(expression[1:-1]):\n",
    "        expression = expression[1:-1]\n",
    "\n",
    "    for p in [result for result in [divideExpression(expression, operator) for operator in \">|&/\"] if result >= 0] :\n",
    "        return onp(expression[:p]) + onp(expression[p + 1:]) + expression[p]\n",
    "        \n",
    "    p = divideExpression(expression, '~')\n",
    "    if p >= 0:\n",
    "        return onp(expression[p + 1:]) + expression[p]\n",
    "        \n",
    "    return expression"
   ]
  },
  {
   "cell_type": "code",
   "execution_count": 8,
   "metadata": {},
   "outputs": [],
   "source": [
    "def substitude(expression, variables, values):\n",
    "    mappedExpr = list(expression)\n",
    "    for i in range(len(expression)):\n",
    "        pos = variables.find(expression[i])\n",
    "        if pos >= 0: mappedExpr[i] = values[pos]\n",
    "    return ''.join(mappedExpr)"
   ]
  },
  {
   "cell_type": "code",
   "execution_count": 9,
   "metadata": {},
   "outputs": [],
   "source": [
    "def evaluateLogic(expression, values):\n",
    "    variables = getVariables(expression)\n",
    "    #print(variables)\n",
    "    mappedExpr = substitude(onp(expression), variables, values)\n",
    "    #print(mappedExpr)\n",
    "    stack = list(\"\")\n",
    "    for x in mappedExpr:\n",
    "        if x in '01': stack.append(int(x))\n",
    "        else:\n",
    "            y1 = not not stack.pop()\n",
    "            if x == '~': \n",
    "                stack.append(not y1)\n",
    "            else: \n",
    "                y2 = not not stack.pop()\n",
    "                if x == '&': stack.append(y1 and y2)\n",
    "                elif x == '|': stack.append(y1 or y2)\n",
    "                elif x == '>': stack.append(y1 or (not y2))\n",
    "    return stack.pop()"
   ]
  },
  {
   "cell_type": "code",
   "execution_count": 10,
   "metadata": {},
   "outputs": [],
   "source": [
    "def binaryGenerator(n):\n",
    "    if n == 0: yield \"\"\n",
    "    else:\n",
    "        for c in binaryGenerator(n-1):\n",
    "            yield \"0\" + c\n",
    "            yield \"1\" + c"
   ]
  },
  {
   "cell_type": "code",
   "execution_count": 11,
   "metadata": {},
   "outputs": [],
   "source": [
    "# Quine Mccluskey algorithm"
   ]
  },
  {
   "cell_type": "code",
   "execution_count": 12,
   "metadata": {},
   "outputs": [],
   "source": [
    "def latch(vec1, vec2):\n",
    "    diffCounter = 0\n",
    "    result = \"\"\n",
    "    for c1, c2 in zip(vec1, vec2):\n",
    "        if c1 == c2:\n",
    "            result += c1\n",
    "        else:\n",
    "            diffCounter += 1\n",
    "            result += \"-\"\n",
    "    if diffCounter == 1: return result\n",
    "    else: return False"
   ]
  },
  {
   "cell_type": "code",
   "execution_count": 13,
   "metadata": {},
   "outputs": [],
   "source": [
    "def readData():\n",
    "    data = open(\"data.txt\", \"r\")\n",
    "    result = set(data.read().splitlines())\n",
    "    data.close()\n",
    "    return result"
   ]
  },
  {
   "cell_type": "code",
   "execution_count": 14,
   "metadata": {},
   "outputs": [],
   "source": [
    "def quineMcCluskey(binaries):\n",
    "    anyLatch = False\n",
    "    result = set()\n",
    "    for binary1 in binaries:\n",
    "        foundedLatch = False\n",
    "        for binary2 in binaries:\n",
    "            vec = latch(binary1, binary2)\n",
    "            if vec:\n",
    "                result.add(vec)\n",
    "                foundedLatch = anyLatch = True\n",
    "        if not foundedLatch: result.add(binary1)\n",
    "    if anyLatch: return quineMcCluskey(result)\n",
    "    return result"
   ]
  },
  {
   "cell_type": "code",
   "execution_count": 15,
   "metadata": {},
   "outputs": [],
   "source": [
    "def convertToLogic(expression):\n",
    "    mainResult = \"\"\n",
    "    for vec in expression:\n",
    "        result = \"\"\n",
    "        for elem in range(len(vec)):\n",
    "            if vec[elem] == \"-\": continue\n",
    "            if vec[elem] == \"0\": result += \"~\"\n",
    "            result += string.ascii_lowercase[elem]+\"&\"\n",
    "        mainResult += \"(\" + result[:-1] + \")|\"\n",
    "    return mainResult[:-1]\n"
   ]
  },
  {
   "cell_type": "code",
   "execution_count": 16,
   "metadata": {},
   "outputs": [],
   "source": [
    "def check(expr, binaries):\n",
    "    for result in [evaluateLogic(expr, binary) for binary in binaries]: print(result)"
   ]
  },
  {
   "cell_type": "code",
   "execution_count": 17,
   "metadata": {},
   "outputs": [
    {
     "ename": "NameError",
     "evalue": "name 'main' is not defined",
     "output_type": "error",
     "traceback": [
      "\u001b[0;31m---------------------------------------------------------------------------\u001b[0m",
      "\u001b[0;31mNameError\u001b[0m                                 Traceback (most recent call last)",
      "\u001b[0;32m<ipython-input-17-263240bbee7e>\u001b[0m in \u001b[0;36m<module>\u001b[0;34m()\u001b[0m\n\u001b[0;32m----> 1\u001b[0;31m \u001b[0mmain\u001b[0m\u001b[0;34m(\u001b[0m\u001b[0;34m)\u001b[0m\u001b[0;34m\u001b[0m\u001b[0m\n\u001b[0m",
      "\u001b[0;31mNameError\u001b[0m: name 'main' is not defined"
     ]
    }
   ],
   "source": [
    "main()"
   ]
  },
  {
   "cell_type": "code",
   "execution_count": 18,
   "metadata": {},
   "outputs": [],
   "source": [
    "    def unate_cover(self, primes, binaries):\n",
    "        \"\"\"\n",
    "    Use the prime implicants to find the essential prime implicants of the\n",
    "    function, as well as other prime implicants that are necessary to cover\n",
    "    the function. This method uses the Petrick's method, which is a technique\n",
    "    for determining all minimum sum-of-products solutions from a prime implicant\n",
    "    chart.\n",
    "\n",
    "    primes: the prime implicants that we want to minimize.\n",
    "    binaries: a list of indices for the minterms for which we want the function to\n",
    "    evaluate to 1.\n",
    "    \"\"\"\n",
    "\n",
    "        chart = []\n",
    "        for binary in binaries:\n",
    "            column = []\n",
    "            for i in range(len(primes)):\n",
    "                if (binary & (~primes[i][1])) == primes[i][0]:\n",
    "                    column.append(i)\n",
    "            chart.append(column)\n",
    "\n",
    "        covers = []\n",
    "        if len(chart) > 0:\n",
    "            covers = [set([i]) for i in chart[0]]\n",
    "        for i in range(1, len(chart)):\n",
    "            new_covers = []\n",
    "            for cover in covers:\n",
    "                for prime_index in chart[i]:\n",
    "                    x = set(cover)\n",
    "                    x.add(prime_index)\n",
    "                    append = True\n",
    "                    for j in range(len(new_covers) - 1, -1, -1):\n",
    "                        if x <= new_covers[j]:\n",
    "                            del new_covers[j]\n",
    "                        elif x > new_covers[j]:\n",
    "                            append = False\n",
    "                    if append:\n",
    "                        new_covers.append(x)\n",
    "            covers = new_covers\n",
    "\n",
    "        min_complexity = 99999999\n",
    "        for cover in covers:\n",
    "            primes_in_cover = [primes[prime_index] for prime_index in cover]\n",
    "            complexity = self.calculate_complexity(primes_in_cover)\n",
    "            if complexity < min_complexity:\n",
    "                min_complexity = complexity\n",
    "                result = primes_in_cover\n",
    "\n",
    "        return min_complexity, result\n",
    "\n",
    "    def calculate_complexity(self, minterms):\n",
    "        \"\"\"\n",
    "    Calculate the complexity of the given function. The complexity is calculated\n",
    "    based on the following rules:\n",
    "    A NOT gate adds 1 to the complexity.\n",
    "    A n-input AND or OR gate adds n to the complexity.\n",
    "\n",
    "    minterms: a list of minterms that form the function\n",
    "\n",
    "    returns: an integer that is the complexity of the function\n",
    "\n",
    "    >>> qm = QM(['A','B','C'])\n",
    "\n",
    "    >>> qm.calculate_complexity([(1,6)])\n",
    "    0\n",
    "    >>> qm.calculate_complexity([(0,6)])\n",
    "    1\n",
    "    >>> qm.calculate_complexity([(3,4)])\n",
    "    2\n",
    "    >>> qm.calculate_complexity([(7,0)])\n",
    "    3\n",
    "    >>> qm.calculate_complexity([(1,6),(2,5),(4,3)])\n",
    "    3\n",
    "    >>> qm.calculate_complexity([(0,6),(2,5),(4,3)])\n",
    "    4\n",
    "    >>> qm.calculate_complexity([(0,6),(0,5),(4,3)])\n",
    "    5\n",
    "    >>> qm.calculate_complexity([(0,6),(0,5),(0,3)])\n",
    "    6\n",
    "    >>> qm.calculate_complexity([(3,4),(7,0),(5,2)])\n",
    "    10\n",
    "    >>> qm.calculate_complexity([(1,4),(7,0),(5,2)])\n",
    "    11\n",
    "    >>> qm.calculate_complexity([(2,4),(7,0),(5,2)])\n",
    "    11\n",
    "    >>> qm.calculate_complexity([(0,4),(7,0),(5,2)])\n",
    "    12\n",
    "    >>> qm.calculate_complexity([(0,4),(0,0),(5,2)])\n",
    "    15\n",
    "    >>> qm.calculate_complexity([(0,4),(0,0),(0,2)])\n",
    "    17\n",
    "    \"\"\"\n",
    "\n",
    "        complexity = len(minterms)\n",
    "        if complexity == 1:\n",
    "            complexity = 0\n",
    "        mask = (1 << self.numvars) - 1\n",
    "        for minterm in minterms:\n",
    "            masked = ~minterm[1] & mask\n",
    "            term_complexity = bitcount(masked)\n",
    "            if term_complexity == 1:\n",
    "                term_complexity = 0\n",
    "            complexity += term_complexity\n",
    "            complexity += bitcount(~minterm[0] & masked)\n",
    "\n",
    "        return complexity"
   ]
  },
  {
   "cell_type": "code",
   "execution_count": 22,
   "metadata": {},
   "outputs": [
    {
     "name": "stdout",
     "output_type": "stream",
     "text": [
      "{'1100', '0111', '0100', '1010', '1101', '1111', '1001', '1110'}\n",
      "{'-111', '1-10', '-100', '1-01', '11--'}\n"
     ]
    }
   ],
   "source": [
    "main()"
   ]
  },
  {
   "cell_type": "code",
   "execution_count": 27,
   "metadata": {},
   "outputs": [],
   "source": [
    "def constructPetricChart(primes):\n",
    "    chart = []\n",
    "    varCount = len(primes.pop())\n",
    "    for i in range(varCount): chart.append([])\n",
    "    for prime in primes:\n",
    "        "
   ]
  },
  {
   "cell_type": "code",
   "execution_count": 28,
   "metadata": {},
   "outputs": [],
   "source": [
    "def main():\n",
    "    binaries = readData()\n",
    "    result = quineMcCluskey(binaries)\n",
    "    expr = convertToLogic(result)\n",
    "    \n",
    "    print(binaries)\n",
    "    print(result)\n",
    "    constructPetricChart(result)\n",
    "\n",
    "#     print(expr)\n",
    "#     print(validate(expr))\n",
    "#     print(onp(expr))\n",
    "#     print(evaluateLogic(expr, \"0000\"))\n",
    "#     check(expr, binaries)\n",
    "    "
   ]
  },
  {
   "cell_type": "code",
   "execution_count": 29,
   "metadata": {},
   "outputs": [
    {
     "name": "stdout",
     "output_type": "stream",
     "text": [
      "{'1100', '0111', '0100', '1010', '1101', '1111', '1001', '1110'}\n",
      "{'-111', '1-10', '-100', '1-01', '11--'}\n",
      "4\n"
     ]
    }
   ],
   "source": [
    "main()"
   ]
  },
  {
   "cell_type": "code",
   "execution_count": null,
   "metadata": {},
   "outputs": [],
   "source": []
  }
 ],
 "metadata": {
  "kernelspec": {
   "display_name": "Python 3",
   "language": "python",
   "name": "python3"
  },
  "language_info": {
   "codemirror_mode": {
    "name": "ipython",
    "version": 3
   },
   "file_extension": ".py",
   "mimetype": "text/x-python",
   "name": "python",
   "nbconvert_exporter": "python",
   "pygments_lexer": "ipython3",
   "version": "3.6.4"
  }
 },
 "nbformat": 4,
 "nbformat_minor": 2
}
