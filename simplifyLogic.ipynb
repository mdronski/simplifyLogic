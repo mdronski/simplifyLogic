{
 "cells": [
  {
   "cell_type": "code",
   "execution_count": 2,
   "metadata": {},
   "outputs": [],
   "source": [
    "import string"
   ]
  },
  {
   "cell_type": "code",
   "execution_count": 3,
   "metadata": {},
   "outputs": [],
   "source": [
    "# onp functions"
   ]
  },
  {
   "cell_type": "code",
   "execution_count": 4,
   "metadata": {},
   "outputs": [],
   "source": [
    "def getVariables(expression):\n",
    "    variables = [letter for letter in expression if letter.isalpha()]\n",
    "    return ''.join(sorted(set(variables)))"
   ]
  },
  {
   "cell_type": "code",
   "execution_count": 5,
   "metadata": {},
   "outputs": [],
   "source": [
    "def validate(expression):\n",
    "    variables = string.ascii_lowercase + 'T' + 'F'\n",
    "    operators = \"~^&|/>\"\n",
    "    state = True\n",
    "    counter = 0\n",
    "\n",
    "    for char in expression:\n",
    "        if char == '(': counter += 1\n",
    "        if char == ')': counter -= 1\n",
    "        if counter < 0: return False\n",
    "        if state:\n",
    "            if char == '~': state = True\n",
    "            elif char in variables: state = False\n",
    "            elif char in ')' + operators: return False\n",
    "        else:\n",
    "            if char in operators: state = True\n",
    "            elif char in '(' + variables + '~': return False\n",
    "    if counter != 0: return False\n",
    "    return not state"
   ]
  },
  {
   "cell_type": "code",
   "execution_count": 6,
   "metadata": {},
   "outputs": [],
   "source": [
    "def divideExpression(expression, operators):\n",
    "    counter = 0\n",
    "    for i in range(len(expression) - 1, -1, -1):       # zmieniłem 0 na -1\n",
    "        if expression[i] == ')': counter += 1\n",
    "        if expression[i] == '(': counter -= 1\n",
    "        if expression[i] in operators and counter == 0: return i\n",
    "    return -1"
   ]
  },
  {
   "cell_type": "code",
   "execution_count": 7,
   "metadata": {},
   "outputs": [],
   "source": [
    "def onp(expression):\n",
    "    operators = \"&>|/\"\n",
    "    while expression[0] == '(' and expression[-1] == ')' and validate(expression[1:-1]):\n",
    "        expression = expression[1:-1]\n",
    "\n",
    "    for p in [result for result in [divideExpression(expression, operator) for operator in \">|&/\"] if result >= 0] :\n",
    "        return onp(expression[:p]) + onp(expression[p + 1:]) + expression[p]\n",
    "        \n",
    "    p = divideExpression(expression, '~')\n",
    "    if p >= 0:\n",
    "        return onp(expression[p + 1:]) + expression[p]\n",
    "        \n",
    "    return expression"
   ]
  },
  {
   "cell_type": "code",
   "execution_count": 8,
   "metadata": {},
   "outputs": [],
   "source": [
    "def substitude(expression, variables, values):\n",
    "    mappedExpr = list(expression)\n",
    "    for i in range(len(expression)):\n",
    "        pos = variables.find(expression[i])\n",
    "        if pos >= 0: mappedExpr[i] = values[pos]\n",
    "    return ''.join(mappedExpr)"
   ]
  },
  {
   "cell_type": "code",
   "execution_count": 378,
   "metadata": {},
   "outputs": [],
   "source": [
    "def evaluateLogic(expression, values):\n",
    "    if not validate(expression): \n",
    "        print(\"ERROR\")\n",
    "        return False\n",
    "    variables = getVariables(expression)\n",
    "    #print(variables)\n",
    "    mappedExpr = substitude(onp(expression), variables, values)\n",
    "    #print(mappedExpr)\n",
    "    stack = list(\"\")\n",
    "    for x in mappedExpr:\n",
    "        if x in '01': stack.append(int(x))\n",
    "        else:\n",
    "            y1 = not not stack.pop()\n",
    "            if x == '~': \n",
    "                stack.append(not y1)\n",
    "            else: \n",
    "                y2 = not not stack.pop()\n",
    "                if x == '&': stack.append(y1 and y2)\n",
    "                elif x == '|': stack.append(y1 or y2)\n",
    "                elif x == '>': stack.append(y1 or (not y2))\n",
    "                elif x == '/': stack.append(not (y1 and y2))\n",
    "                elif x == '^': stack.append((y1 and not y2) or (not y1 and y2))\n",
    "    return stack.pop()"
   ]
  },
  {
   "cell_type": "code",
   "execution_count": 34,
   "metadata": {},
   "outputs": [],
   "source": [
    "def binaryGenerator(n):\n",
    "    if n == 0: yield \"\"\n",
    "    else:\n",
    "        for c in binaryGenerator(n-1):\n",
    "            yield \"0\" + c\n",
    "            yield \"1\" + c"
   ]
  },
  {
   "cell_type": "code",
   "execution_count": null,
   "metadata": {},
   "outputs": [],
   "source": []
  },
  {
   "cell_type": "code",
   "execution_count": 35,
   "metadata": {},
   "outputs": [],
   "source": [
    "# Quine Mccluskey algorithm"
   ]
  },
  {
   "cell_type": "code",
   "execution_count": null,
   "metadata": {},
   "outputs": [],
   "source": []
  },
  {
   "cell_type": "code",
   "execution_count": 149,
   "metadata": {},
   "outputs": [],
   "source": [
    "def latch(vec1, vec2):\n",
    "    diffCounter = 0\n",
    "    result = [\"\",[]]  #change\n",
    "    for c1, c2 in zip(vec1[0], vec2[0]): #change\n",
    "        if c1 == c2:\n",
    "            result[0] += c1 #change\n",
    "        else:\n",
    "            diffCounter += 1\n",
    "            result[0] += \"-\"  #change\n",
    "    if diffCounter == 1:\n",
    "        result[1] += (vec1[1] + vec2[1]) #change\n",
    "        return result\n",
    "    else: \n",
    "        return False"
   ]
  },
  {
   "cell_type": "code",
   "execution_count": 150,
   "metadata": {},
   "outputs": [
    {
     "name": "stdout",
     "output_type": "stream",
     "text": [
      "['00-1', [1, 3, 4]]\n"
     ]
    }
   ],
   "source": [
    "print(latch([\"0001\", [1]], [\"0011\", [3, 4]]))"
   ]
  },
  {
   "cell_type": "code",
   "execution_count": 137,
   "metadata": {},
   "outputs": [],
   "source": [
    "def parseBinaries(binaries):\n",
    "    orderedBinaries = []\n",
    "    for binary in binaries:\n",
    "        orderedBinaries.append([binary, [int(binary, 2)]])\n",
    "    return orderedBinaries"
   ]
  },
  {
   "cell_type": "code",
   "execution_count": 373,
   "metadata": {},
   "outputs": [],
   "source": [
    "def readData(fileName):\n",
    "    data = open(fileName, \"r\")\n",
    "    result = set(data.read().splitlines())\n",
    "    data.close()\n",
    "    return result"
   ]
  },
  {
   "cell_type": "code",
   "execution_count": 219,
   "metadata": {},
   "outputs": [],
   "source": [
    "def quineMcCluskey(binaries):\n",
    "    anyLatch = False\n",
    "    result = []\n",
    "    for binary1 in binaries:\n",
    "        foundedLatch = False\n",
    "        for binary2 in binaries:\n",
    "            vec = latch(binary1, binary2)\n",
    "            if vec:\n",
    "                result.append(vec)\n",
    "                foundedLatch = anyLatch = True\n",
    "        if not foundedLatch: result.append(binary1)\n",
    "    if anyLatch: return quineMcCluskey(result)\n",
    "    \n",
    "    primes = []\n",
    "    for p, m in (removeDuplicates(result)).items():\n",
    "        primes.append([p, m])\n",
    "    return primes"
   ]
  },
  {
   "cell_type": "code",
   "execution_count": 328,
   "metadata": {},
   "outputs": [],
   "source": [
    "def bitcount(i):\n",
    "    res = 0\n",
    "    while i > 0:\n",
    "        res += i&1\n",
    "        i>>=1\n",
    "    return res"
   ]
  },
  {
   "cell_type": "code",
   "execution_count": 451,
   "metadata": {},
   "outputs": [],
   "source": [
    "def convertToLogic(expression):\n",
    "    mainResult = \"\"\n",
    "    for vec in expression:\n",
    "        varCount = 0\n",
    "        result = \"\"\n",
    "        for elem in range(len(vec[0])):\n",
    "            if vec[0][elem] == \"-\": continue\n",
    "            if vec[0][elem] == \"0\":result += \"~\"\n",
    "            varCount += 1\n",
    "            result += string.ascii_lowercase[elem]+\"&\"\n",
    "        if(varCount > 1):\n",
    "            mainResult += \"(\" + result[:-1] + \")|\"\n",
    "        else:\n",
    "            mainResult += result[:-1] + \"|\"\n",
    "    return mainResult[:-1]\n"
   ]
  },
  {
   "cell_type": "code",
   "execution_count": 257,
   "metadata": {},
   "outputs": [],
   "source": [
    "def check(expr, binaries):\n",
    "    for result in [evaluateLogic(expr, binary) for binary in binaries]: print(result)"
   ]
  },
  {
   "cell_type": "code",
   "execution_count": 282,
   "metadata": {
    "collapsed": true
   },
   "outputs": [
    {
     "name": "stdout",
     "output_type": "stream",
     "text": [
      "{'1100', '0111', '0100', '1010', '1101', '1111', '1001', '1110'}\n",
      "[['1100', [12]], ['0111', [7]], ['0100', [4]], ['1010', [10]], ['1101', [13]], ['1111', [15]], ['1001', [9]], ['1110', [14]]]\n",
      "\n",
      "[['-100', [4, 12]], ['11--', [14, 15, 13, 12]], ['-111', [15, 7]], ['1-10', [14, 10]], ['1-01', [9, 13]]]\n",
      "\n",
      "['1100', [12]]\n",
      "['1100', [12]]\n",
      "['1100', [12]]\n",
      "['1100', [12]]\n",
      "['1100', [12]]\n",
      "['0111', [7]]\n",
      "['0111', [7]]\n",
      "['0111', [7]]\n",
      "['0111', [7]]\n",
      "['0111', [7]]\n",
      "['0100', [4]]\n",
      "['0100', [4]]\n",
      "['0100', [4]]\n",
      "['0100', [4]]\n",
      "['0100', [4]]\n",
      "['1010', [10]]\n",
      "['1010', [10]]\n",
      "['1010', [10]]\n",
      "['1010', [10]]\n",
      "['1010', [10]]\n",
      "['1101', [13]]\n",
      "['1101', [13]]\n",
      "['1101', [13]]\n",
      "['1101', [13]]\n",
      "['1101', [13]]\n",
      "['1111', [15]]\n",
      "['1111', [15]]\n",
      "['1111', [15]]\n",
      "['1111', [15]]\n",
      "['1111', [15]]\n",
      "['1001', [9]]\n",
      "['1001', [9]]\n",
      "['1001', [9]]\n",
      "['1001', [9]]\n",
      "['1001', [9]]\n",
      "['1110', [14]]\n",
      "['1110', [14]]\n",
      "['1110', [14]]\n",
      "['1110', [14]]\n",
      "['1110', [14]]\n",
      "[[], [], [], [], [], [], [], []]\n"
     ]
    },
    {
     "ename": "UnboundLocalError",
     "evalue": "local variable 'result' referenced before assignment",
     "output_type": "error",
     "traceback": [
      "\u001b[0;31m---------------------------------------------------------------------------\u001b[0m",
      "\u001b[0;31mUnboundLocalError\u001b[0m                         Traceback (most recent call last)",
      "\u001b[0;32m<ipython-input-282-263240bbee7e>\u001b[0m in \u001b[0;36m<module>\u001b[0;34m()\u001b[0m\n\u001b[0;32m----> 1\u001b[0;31m \u001b[0mmain\u001b[0m\u001b[0;34m(\u001b[0m\u001b[0;34m)\u001b[0m\u001b[0;34m\u001b[0m\u001b[0m\n\u001b[0m",
      "\u001b[0;32m<ipython-input-273-2b8b3be6cb57>\u001b[0m in \u001b[0;36mmain\u001b[0;34m()\u001b[0m\n\u001b[1;32m     10\u001b[0m     \u001b[0mexpr\u001b[0m \u001b[0;34m=\u001b[0m \u001b[0mconvertToLogic\u001b[0m\u001b[0;34m(\u001b[0m\u001b[0mresult\u001b[0m\u001b[0;34m)\u001b[0m\u001b[0;34m\u001b[0m\u001b[0m\n\u001b[1;32m     11\u001b[0m \u001b[0;31m#    print(expr)\u001b[0m\u001b[0;34m\u001b[0m\u001b[0;34m\u001b[0m\u001b[0m\n\u001b[0;32m---> 12\u001b[0;31m     \u001b[0munate_cover\u001b[0m\u001b[0;34m(\u001b[0m\u001b[0mresult\u001b[0m\u001b[0;34m,\u001b[0m \u001b[0mparsedBinaries\u001b[0m\u001b[0;34m)\u001b[0m\u001b[0;34m\u001b[0m\u001b[0m\n\u001b[0m\u001b[1;32m     13\u001b[0m \u001b[0;34m\u001b[0m\u001b[0m\n\u001b[1;32m     14\u001b[0m \u001b[0;34m\u001b[0m\u001b[0m\n",
      "\u001b[0;32m<ipython-input-278-ec7020e918ec>\u001b[0m in \u001b[0;36munate_cover\u001b[0;34m(primes, minTerms)\u001b[0m\n\u001b[1;32m     50\u001b[0m             \u001b[0mresult\u001b[0m \u001b[0;34m=\u001b[0m \u001b[0mprimes_in_cover\u001b[0m\u001b[0;34m\u001b[0m\u001b[0m\n\u001b[1;32m     51\u001b[0m \u001b[0;34m\u001b[0m\u001b[0m\n\u001b[0;32m---> 52\u001b[0;31m     \u001b[0;32mreturn\u001b[0m \u001b[0mmin_complexity\u001b[0m\u001b[0;34m,\u001b[0m \u001b[0mresult\u001b[0m\u001b[0;34m\u001b[0m\u001b[0m\n\u001b[0m\u001b[1;32m     53\u001b[0m \u001b[0;34m\u001b[0m\u001b[0m\n\u001b[1;32m     54\u001b[0m \u001b[0;32mdef\u001b[0m \u001b[0mcalculate_complexity\u001b[0m\u001b[0;34m(\u001b[0m\u001b[0mself\u001b[0m\u001b[0;34m,\u001b[0m \u001b[0mminterms\u001b[0m\u001b[0;34m)\u001b[0m\u001b[0;34m:\u001b[0m\u001b[0;34m\u001b[0m\u001b[0m\n",
      "\u001b[0;31mUnboundLocalError\u001b[0m: local variable 'result' referenced before assignment"
     ]
    }
   ],
   "source": [
    "main()"
   ]
  },
  {
   "cell_type": "code",
   "execution_count": 355,
   "metadata": {},
   "outputs": [],
   "source": [
    "    def unate_cover(primes, minTerms):\n",
    "\n",
    "        chart = []\n",
    "        for minTerm in minTerms:\n",
    "            column = []\n",
    "            for i in range(len(primes)):\n",
    "#                 print(minTerm[1])\n",
    "#                 print(primes[i][1])\n",
    "                if (minTerm[1][0] in primes[i][1]):\n",
    "                    column.append(i)\n",
    "#             print(column)\n",
    "            chart.append(column)\n",
    "            \n",
    "        print(chart)\n",
    "\n",
    "        covers = []\n",
    "        if len(chart) > 0:\n",
    "            covers = [set([i]) for i in chart[0]]\n",
    "        for i in range(1, len(chart)):\n",
    "            new_covers = []\n",
    "            for cover in covers:\n",
    "                for prime_index in chart[i]:\n",
    "                    x = set(cover)\n",
    "                    x.add(prime_index)\n",
    "                    append = True\n",
    "                    for j in range(len(new_covers) - 1, -1, -1):\n",
    "                        if x <= new_covers[j]:\n",
    "                            del new_covers[j]\n",
    "                        elif x > new_covers[j]:\n",
    "                            append = False\n",
    "                    if append:\n",
    "                        new_covers.append(x)\n",
    "            covers = new_covers\n",
    "\n",
    "        min_complexity = 99999999\n",
    "        for cover in covers:\n",
    "            primes_in_cover = [primes[prime_index] for prime_index in cover]\n",
    "            complexity = calculate_complexity(primes_in_cover)\n",
    "            if complexity < min_complexity:\n",
    "                min_complexity = complexity\n",
    "                result = primes_in_cover\n",
    "\n",
    "        return min_complexity, result\n",
    "\n",
    "    def calculate_complexity(minterms):\n",
    "\n",
    "\n",
    "        complexity = len(minterms)\n",
    "        if complexity == 1:\n",
    "            complexity = 0\n",
    "        mask = (1 << len(minterms[1][0])) - 1\n",
    "        for minterm in minterms:\n",
    "            masked = ~minterm[1][1] & mask\n",
    "#            print(masked)\n",
    "            term_complexity = bitcount(masked)\n",
    "#            print(term_complexity)\n",
    "            if term_complexity == 1:\n",
    "                term_complexity = 0\n",
    "            complexity += term_complexity\n",
    "            complexity += bitcount(~minterm[1][1] & masked)\n",
    "\n",
    "        return complexity"
   ]
  },
  {
   "cell_type": "code",
   "execution_count": 356,
   "metadata": {},
   "outputs": [
    {
     "name": "stdout",
     "output_type": "stream",
     "text": [
      "{'111', '110', '001', '101', '000', '010'}\n",
      "[['111', [7]], ['110', [6]], ['001', [1]], ['101', [5]], ['000', [0]], ['010', [2]]]\n",
      "\n",
      "[['11-', [6, 7]], ['1-1', [5, 7]], ['-10', [2, 6]], ['-01', [5, 1]], ['00-', [0, 1]], ['0-0', [2, 0]]]\n",
      "\n",
      "[[0, 2, 4, 6], [4, 6, 7, 8], [1, 3, 6, 7], [0, 2, 3, 7], [0, 1, 5, 6], [0, 5, 7, 8]]\n",
      "[['~~-', [0, 1, 6, 7]], ['-^^', [2, 6, 1, 5]]]\n"
     ]
    }
   ],
   "source": [
    "main()"
   ]
  },
  {
   "cell_type": "code",
   "execution_count": 296,
   "metadata": {},
   "outputs": [],
   "source": [
    "def constructPetricChart(primes):\n",
    "    usedMinTerms = set()\n",
    "    for prime in primes:\n",
    "        for minTerm in prime[1]:\n",
    "            usedMinTerms.add(minTerm)\n",
    "    \n",
    "    chart = {}\n",
    "    for minTerm in usedMinTerms:\n",
    "        chart[minTerm] =[]\n",
    "    \n",
    "    for prime in primes:\n",
    "        for minTerm in prime[1]:\n",
    "            chart[minTerm] = chart[minTerm].append(prime[0])\n",
    "            \n",
    "    return chart"
   ]
  },
  {
   "cell_type": "code",
   "execution_count": null,
   "metadata": {},
   "outputs": [],
   "source": []
  },
  {
   "cell_type": "code",
   "execution_count": 376,
   "metadata": {},
   "outputs": [],
   "source": [
    "def main():\n",
    "    binaries = readData(\"data.txt\")\n",
    "    binaries = {\"000\", \"001\", \"010\", \"101\", \"110\", \"111\"}\n",
    "    #print(binaries)\n",
    "    parsedBinaries = parseBinaries(binaries)\n",
    "    #print(parsedBinaries)\n",
    "    print()\n",
    "    result = quineMcCluskey(parsedBinaries)\n",
    "    #print(result)\n",
    "    print()\n",
    "    expr = convertToLogic(result)\n",
    "#    print(expr)\n",
    "# {'-10', '~-~', '0-0', '11-', '00-', '1-1', '~~-', '-01', '-^^'}\n",
    "    r = [['~-~', [2, 0, 5, 7]], ['00-',[0, 1]], ['1-1',[5, 7]], ['-01', [1, 5]], ['11-', [6, 7]], ['0-0', [2, 0]], ['~~-', [0, 1, 6, 7]], ['-⨀⨀', [2, 6, 1, 5]], ['-10', [2, 6]]]\n",
    "    print(r)\n",
    "    x, y = unate_cover(r, parsedBinaries)\n",
    "    print(y)\n",
    "    \n",
    "    \n",
    "#     print(binaries)\n",
    "#     print(parseBinaries(binaries))\n",
    "#     print(result)\n",
    "#     constructPetricChart(result)\n",
    "\n",
    "#     print(expr)\n",
    "#     print(validate(expr))\n",
    "#     print(onp(expr))\n",
    "#     print(evaluateLogic(expr, \"0000\"))\n",
    "#     check(expr, binaries)\n",
    "    "
   ]
  },
  {
   "cell_type": "code",
   "execution_count": 377,
   "metadata": {},
   "outputs": [
    {
     "name": "stdout",
     "output_type": "stream",
     "text": [
      "\n",
      "\n",
      "[['~-~', [2, 0, 5, 7]], ['00-', [0, 1]], ['1-1', [5, 7]], ['-01', [1, 5]], ['11-', [6, 7]], ['0-0', [2, 0]], ['~~-', [0, 1, 6, 7]], ['-⨀⨀', [2, 6, 1, 5]], ['-10', [2, 6]]]\n",
      "[[0, 2, 4, 6], [4, 6, 7, 8], [1, 3, 6, 7], [0, 2, 3, 7], [0, 1, 5, 6], [0, 5, 7, 8]]\n",
      "[['~~-', [0, 1, 6, 7]], ['-⨀⨀', [2, 6, 1, 5]]]\n"
     ]
    }
   ],
   "source": [
    "main()"
   ]
  },
  {
   "cell_type": "code",
   "execution_count": 452,
   "metadata": {},
   "outputs": [],
   "source": [
    "def minimalize():\n",
    "    #temporary input of expression\n",
    "    expr = \"(a|b)|(c|a|b)\"\n",
    "    variables = getVariables(expr)\n",
    "    b = binaryGenerator(len(variables))\n",
    "    minTerms = [minTerm for minTerm in b if evaluateLogic(expr, minTerm)]\n",
    "    parsedMinTerms = parseBinaries(minTerms)\n",
    "    primes = quineMcCluskey(parsedMinTerms)\n",
    "    expr = convertToLogic(primes)\n",
    "    print(expr)\n",
    "    \n",
    " "
   ]
  },
  {
   "cell_type": "code",
   "execution_count": 453,
   "metadata": {},
   "outputs": [
    {
     "name": "stdout",
     "output_type": "stream",
     "text": [
      "abc\n",
      "a|b|c\n"
     ]
    }
   ],
   "source": [
    "minimalize()"
   ]
  },
  {
   "cell_type": "code",
   "execution_count": null,
   "metadata": {},
   "outputs": [],
   "source": []
  }
 ],
 "metadata": {
  "kernelspec": {
   "display_name": "Python 3",
   "language": "python",
   "name": "python3"
  },
  "language_info": {
   "codemirror_mode": {
    "name": "ipython",
    "version": 3
   },
   "file_extension": ".py",
   "mimetype": "text/x-python",
   "name": "python",
   "nbconvert_exporter": "python",
   "pygments_lexer": "ipython3",
   "version": "3.6.4"
  }
 },
 "nbformat": 4,
 "nbformat_minor": 2
}
