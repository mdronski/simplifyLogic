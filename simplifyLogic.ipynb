{
 "cells": [
  {
   "cell_type": "code",
   "execution_count": 49,
   "metadata": {},
   "outputs": [],
   "source": [
    "import string"
   ]
  },
  {
   "cell_type": "code",
   "execution_count": null,
   "metadata": {},
   "outputs": [],
   "source": [
    "# onp functions"
   ]
  },
  {
   "cell_type": "code",
   "execution_count": 7,
   "metadata": {},
   "outputs": [],
   "source": [
    "def getVariables(expression):\n",
    "    variables = [letter for letter in expression if letter.isalpha()]\n",
    "    return ''.join(sorted(set(variables)))\n"
   ]
  },
  {
   "cell_type": "code",
   "execution_count": 8,
   "metadata": {},
   "outputs": [],
   "source": [
    "def validate(expression):\n",
    "    variables = string.ascii_lowercase + 'T' + 'F'\n",
    "    operators = \"&>|/>\"\n",
    "    state = True\n",
    "    counter = 0\n",
    "\n",
    "    for char in expression:\n",
    "        if char == '(': counter += 1\n",
    "        if char == ')': counter -= 1\n",
    "        if counter < 0: return False\n",
    "        if state:\n",
    "            if char == '~': state = True\n",
    "            elif char in variables: state = False\n",
    "            elif char in ')' + operators: return False\n",
    "        else:\n",
    "            if char in operators: state = True\n",
    "            elif char in '(' + variables + '~': return False\n",
    "    if counter != 0: return False\n",
    "    return not state"
   ]
  },
  {
   "cell_type": "code",
   "execution_count": 9,
   "metadata": {},
   "outputs": [],
   "source": [
    "def divideExpression(expression, operators):\n",
    "    counter = 0\n",
    "    for i in range(len(expression) - 1, -1, -1):       # zmieniłem 0 na -1\n",
    "        if expression[i] == ')': counter += 1\n",
    "        if expression[i] == '(': counter -= 1\n",
    "        if expression[i] in operators and counter == 0: return i\n",
    "    return -1"
   ]
  },
  {
   "cell_type": "code",
   "execution_count": 40,
   "metadata": {},
   "outputs": [],
   "source": [
    "def onp(expression):\n",
    "    operators = \"&>|/>\"\n",
    "    while expression[0] == '(' and expression[-1] == ')' and validate(expression):\n",
    "        expression = expression[1:-1]\n",
    "\n",
    "    for p in [result for result in [divideExpression(expression, operator) for operator in \">|&/\"] if result >= 0] :\n",
    "        return onp(expression[:p]) + onp(expression[p + 1:]) + expression[p]\n",
    "        \n",
    "    p = divideExpression(expression, '~')\n",
    "    if p >= 0:\n",
    "        return onp(expression[p + 1:]) + expression[p]\n",
    "        \n",
    "    return expression"
   ]
  },
  {
   "cell_type": "code",
   "execution_count": 16,
   "metadata": {},
   "outputs": [],
   "source": [
    "def substitude(expression, variables, values):\n",
    "    mappedExpr = list(expression)\n",
    "    for i in range(len(expression)):\n",
    "        pos = variables.find(expression[i])\n",
    "        if pos >= 0: mappedExpr[i] = values[pos]\n",
    "    return ''.join(mappedExpr)"
   ]
  },
  {
   "cell_type": "code",
   "execution_count": 43,
   "metadata": {},
   "outputs": [],
   "source": [
    "def evaluate(expression, values):\n",
    "    variables = getVariables(expression)\n",
    "    print(variables)\n",
    "    mappedExpr = onp(substitude(expression, variables, values))\n",
    "    print(mappedExpr)\n",
    "    stack = list(\"\")\n",
    "    for x in mappedExpr:\n",
    "        if x in '01': stack.append(int(x))\n",
    "        else:\n",
    "            y1 = not not stack.pop()\n",
    "            if x == '~': \n",
    "                stack.append(not y1)\n",
    "            else: \n",
    "                y2 = not not stack.pop()\n",
    "                if x == '&': stack.append(y1 and y2)\n",
    "                elif x == '|': stack.append(y1 or y2)\n",
    "                elif x == '>': stack.append(y1 or (not y2))\n",
    "    return stack.pop()"
   ]
  },
  {
   "cell_type": "code",
   "execution_count": 46,
   "metadata": {},
   "outputs": [
    {
     "name": "stdout",
     "output_type": "stream",
     "text": [
      "a&~c|a&b\n",
      "True\n",
      "abc\n",
      "00~&00&|\n"
     ]
    },
    {
     "data": {
      "text/plain": [
       "False"
      ]
     },
     "execution_count": 46,
     "metadata": {},
     "output_type": "execute_result"
    }
   ],
   "source": [
    "x = \"a&~c|a&b\"\n",
    "print(x)\n",
    "print(validate(x))\n",
    "evaluate(x, \"000\")"
   ]
  },
  {
   "cell_type": "code",
   "execution_count": null,
   "metadata": {},
   "outputs": [],
   "source": [
    "def binaryGenerator(n):\n",
    "    if n == 0: yield \"\"\n",
    "    else:\n",
    "       for c in binaryGenerator(n-1):\n",
    "            yield \"0\" + c\n",
    "            yield \"1\" + c"
   ]
  },
  {
   "cell_type": "code",
   "execution_count": 47,
   "metadata": {},
   "outputs": [],
   "source": [
    "# Quine Mccluskey algorithm"
   ]
  },
  {
   "cell_type": "code",
   "execution_count": 50,
   "metadata": {},
   "outputs": [],
   "source": [
    "def latch(vec1, vec2):\n",
    "    diff = 0\n",
    "    result = \"\"\n",
    "    for c1, c2 in zip(vec1, vec2):\n",
    "        if c1 == c2:\n",
    "            result += c1\n",
    "        else:\n",
    "            diff += 1\n",
    "            result += \"-\"\n",
    "    if diff == 1: return result\n",
    "    else: return False"
   ]
  },
  {
   "cell_type": "code",
   "execution_count": 51,
   "metadata": {},
   "outputs": [],
   "source": [
    "def readData():\n",
    "    data = open(\"data.txt\", \"r\")\n",
    "    result = set(data.read().splitlines())\n",
    "    data.close()\n",
    "    return result"
   ]
  },
  {
   "cell_type": "code",
   "execution_count": 52,
   "metadata": {},
   "outputs": [],
   "source": [
    "def reduce(S):\n",
    "    b2 = False\n",
    "    result = set()\n",
    "    for elem1 in S:\n",
    "        b1 = False\n",
    "        for elem2 in S:\n",
    "            vec = latch(elem1, elem2)\n",
    "            if vec:\n",
    "                result.add(vec)\n",
    "                b1 = b2 = True\n",
    "        if not b1: result.add(elem1)\n",
    "    if b2: return reduce(result)\n",
    "    return result"
   ]
  },
  {
   "cell_type": "code",
   "execution_count": 53,
   "metadata": {},
   "outputs": [],
   "source": [
    "def minimalize(expression):\n",
    "    mainResult = \"\"\n",
    "    for vec in expression:\n",
    "        result = \"\"\n",
    "        for elem in range(len(vec)):\n",
    "            if vec[elem] == \"-\": continue\n",
    "            if vec[elem] == \"0\": result += \"~\"\n",
    "            result += \"abcdefghij\"[elem]+\"&\"\n",
    "        mainResult += \"(\" + result[:-1] + \") | \"\n",
    "    return mainResult[:-2]\n"
   ]
  },
  {
   "cell_type": "code",
   "execution_count": null,
   "metadata": {},
   "outputs": [],
   "source": []
  }
 ],
 "metadata": {
  "kernelspec": {
   "display_name": "Python 3",
   "language": "python",
   "name": "python3"
  },
  "language_info": {
   "codemirror_mode": {
    "name": "ipython",
    "version": 3
   },
   "file_extension": ".py",
   "mimetype": "text/x-python",
   "name": "python",
   "nbconvert_exporter": "python",
   "pygments_lexer": "ipython3",
   "version": "3.6.4"
  }
 },
 "nbformat": 4,
 "nbformat_minor": 2
}
